{
 "cells": [
  {
   "cell_type": "code",
   "execution_count": 1,
   "metadata": {},
   "outputs": [],
   "source": [
    "import pandas as pd"
   ]
  },
  {
   "cell_type": "code",
   "execution_count": 4,
   "metadata": {},
   "outputs": [],
   "source": [
    "df=pd.read_csv('AAPL.csv.txt')"
   ]
  },
  {
   "cell_type": "code",
   "execution_count": 5,
   "metadata": {},
   "outputs": [
    {
     "data": {
      "text/html": [
       "<div>\n",
       "<style scoped>\n",
       "    .dataframe tbody tr th:only-of-type {\n",
       "        vertical-align: middle;\n",
       "    }\n",
       "\n",
       "    .dataframe tbody tr th {\n",
       "        vertical-align: top;\n",
       "    }\n",
       "\n",
       "    .dataframe thead th {\n",
       "        text-align: right;\n",
       "    }\n",
       "</style>\n",
       "<table border=\"1\" class=\"dataframe\">\n",
       "  <thead>\n",
       "    <tr style=\"text-align: right;\">\n",
       "      <th></th>\n",
       "      <th>Unnamed: 0</th>\n",
       "      <th>symbol</th>\n",
       "      <th>date</th>\n",
       "      <th>close</th>\n",
       "      <th>high</th>\n",
       "      <th>low</th>\n",
       "      <th>open</th>\n",
       "      <th>volume</th>\n",
       "      <th>adjClose</th>\n",
       "      <th>adjHigh</th>\n",
       "      <th>adjLow</th>\n",
       "      <th>adjOpen</th>\n",
       "      <th>adjVolume</th>\n",
       "      <th>divCash</th>\n",
       "      <th>splitFactor</th>\n",
       "    </tr>\n",
       "  </thead>\n",
       "  <tbody>\n",
       "    <tr>\n",
       "      <th>0</th>\n",
       "      <td>0</td>\n",
       "      <td>AAPL</td>\n",
       "      <td>2015-05-27 00:00:00+00:00</td>\n",
       "      <td>132.045</td>\n",
       "      <td>132.260</td>\n",
       "      <td>130.05</td>\n",
       "      <td>130.34</td>\n",
       "      <td>45833246</td>\n",
       "      <td>121.682558</td>\n",
       "      <td>121.880685</td>\n",
       "      <td>119.844118</td>\n",
       "      <td>120.111360</td>\n",
       "      <td>45833246</td>\n",
       "      <td>0.0</td>\n",
       "      <td>1.0</td>\n",
       "    </tr>\n",
       "    <tr>\n",
       "      <th>1</th>\n",
       "      <td>1</td>\n",
       "      <td>AAPL</td>\n",
       "      <td>2015-05-28 00:00:00+00:00</td>\n",
       "      <td>131.780</td>\n",
       "      <td>131.950</td>\n",
       "      <td>131.10</td>\n",
       "      <td>131.86</td>\n",
       "      <td>30733309</td>\n",
       "      <td>121.438354</td>\n",
       "      <td>121.595013</td>\n",
       "      <td>120.811718</td>\n",
       "      <td>121.512076</td>\n",
       "      <td>30733309</td>\n",
       "      <td>0.0</td>\n",
       "      <td>1.0</td>\n",
       "    </tr>\n",
       "    <tr>\n",
       "      <th>2</th>\n",
       "      <td>2</td>\n",
       "      <td>AAPL</td>\n",
       "      <td>2015-05-29 00:00:00+00:00</td>\n",
       "      <td>130.280</td>\n",
       "      <td>131.450</td>\n",
       "      <td>129.90</td>\n",
       "      <td>131.23</td>\n",
       "      <td>50884452</td>\n",
       "      <td>120.056069</td>\n",
       "      <td>121.134251</td>\n",
       "      <td>119.705890</td>\n",
       "      <td>120.931516</td>\n",
       "      <td>50884452</td>\n",
       "      <td>0.0</td>\n",
       "      <td>1.0</td>\n",
       "    </tr>\n",
       "    <tr>\n",
       "      <th>3</th>\n",
       "      <td>3</td>\n",
       "      <td>AAPL</td>\n",
       "      <td>2015-06-01 00:00:00+00:00</td>\n",
       "      <td>130.535</td>\n",
       "      <td>131.390</td>\n",
       "      <td>130.05</td>\n",
       "      <td>131.20</td>\n",
       "      <td>32112797</td>\n",
       "      <td>120.291057</td>\n",
       "      <td>121.078960</td>\n",
       "      <td>119.844118</td>\n",
       "      <td>120.903870</td>\n",
       "      <td>32112797</td>\n",
       "      <td>0.0</td>\n",
       "      <td>1.0</td>\n",
       "    </tr>\n",
       "    <tr>\n",
       "      <th>4</th>\n",
       "      <td>4</td>\n",
       "      <td>AAPL</td>\n",
       "      <td>2015-06-02 00:00:00+00:00</td>\n",
       "      <td>129.960</td>\n",
       "      <td>130.655</td>\n",
       "      <td>129.32</td>\n",
       "      <td>129.86</td>\n",
       "      <td>33667627</td>\n",
       "      <td>119.761181</td>\n",
       "      <td>120.401640</td>\n",
       "      <td>119.171406</td>\n",
       "      <td>119.669029</td>\n",
       "      <td>33667627</td>\n",
       "      <td>0.0</td>\n",
       "      <td>1.0</td>\n",
       "    </tr>\n",
       "  </tbody>\n",
       "</table>\n",
       "</div>"
      ],
      "text/plain": [
       "   Unnamed: 0 symbol                       date    close     high     low  \\\n",
       "0           0   AAPL  2015-05-27 00:00:00+00:00  132.045  132.260  130.05   \n",
       "1           1   AAPL  2015-05-28 00:00:00+00:00  131.780  131.950  131.10   \n",
       "2           2   AAPL  2015-05-29 00:00:00+00:00  130.280  131.450  129.90   \n",
       "3           3   AAPL  2015-06-01 00:00:00+00:00  130.535  131.390  130.05   \n",
       "4           4   AAPL  2015-06-02 00:00:00+00:00  129.960  130.655  129.32   \n",
       "\n",
       "     open    volume    adjClose     adjHigh      adjLow     adjOpen  \\\n",
       "0  130.34  45833246  121.682558  121.880685  119.844118  120.111360   \n",
       "1  131.86  30733309  121.438354  121.595013  120.811718  121.512076   \n",
       "2  131.23  50884452  120.056069  121.134251  119.705890  120.931516   \n",
       "3  131.20  32112797  120.291057  121.078960  119.844118  120.903870   \n",
       "4  129.86  33667627  119.761181  120.401640  119.171406  119.669029   \n",
       "\n",
       "   adjVolume  divCash  splitFactor  \n",
       "0   45833246      0.0          1.0  \n",
       "1   30733309      0.0          1.0  \n",
       "2   50884452      0.0          1.0  \n",
       "3   32112797      0.0          1.0  \n",
       "4   33667627      0.0          1.0  "
      ]
     },
     "execution_count": 5,
     "metadata": {},
     "output_type": "execute_result"
    }
   ],
   "source": [
    "df.head()"
   ]
  },
  {
   "cell_type": "code",
   "execution_count": 6,
   "metadata": {},
   "outputs": [],
   "source": [
    "df1=df.reset_index()['close']"
   ]
  },
  {
   "cell_type": "code",
   "execution_count": 7,
   "metadata": {},
   "outputs": [
    {
     "data": {
      "text/plain": [
       "0    132.045\n",
       "1    131.780\n",
       "2    130.280\n",
       "3    130.535\n",
       "4    129.960\n",
       "Name: close, dtype: float64"
      ]
     },
     "execution_count": 7,
     "metadata": {},
     "output_type": "execute_result"
    }
   ],
   "source": [
    "df1.head()"
   ]
  },
  {
   "cell_type": "code",
   "execution_count": 8,
   "metadata": {},
   "outputs": [
    {
     "data": {
      "text/plain": [
       "[<matplotlib.lines.Line2D at 0x2d3b1ddff48>]"
      ]
     },
     "execution_count": 8,
     "metadata": {},
     "output_type": "execute_result"
    },
    {
     "data": {
      "image/png": "[encoded data removed]",
      "text/plain": [
       "<Figure size 432x288 with 1 Axes>"
      ]
     },
     "metadata": {
      "needs_background": "light"
     },
     "output_type": "display_data"
    }
   ],
   "source": [
    "import matplotlib.pyplot as plt\n",
    "plt.plot(df1)"
   ]
  },
  {
   "cell_type": "code",
   "execution_count": 9,
   "metadata": {},
   "outputs": [],
   "source": [
    "### LSTM are sensitive to the scale of the data. so we apply MinMax scaler"
   ]
  },
  {
   "cell_type": "code",
   "execution_count": 10,
   "metadata": {},
   "outputs": [],
   "source": [
    "import numpy as np"
   ]
  },
  {
   "cell_type": "code",
   "execution_count": 11,
   "metadata": {},
   "outputs": [
    {
     "data": {
      "text/plain": [
       "0    132.045\n",
       "1    131.780\n",
       "2    130.280\n",
       "3    130.535\n",
       "4    129.960\n",
       "Name: close, dtype: float64"
      ]
     },
     "execution_count": 11,
     "metadata": {},
     "output_type": "execute_result"
    }
   ],
   "source": [
    "df1.head()"
   ]
  },
  {
   "cell_type": "code",
   "execution_count": 12,
   "metadata": {},
   "outputs": [],
   "source": [
    "from sklearn.preprocessing import MinMaxScaler\n",
    "scaler=MinMaxScaler(feature_range=(0,1))\n",
    "df1=scaler.fit_transform(np.array(df1).reshape(-1,1))"
   ]
  },
  {
   "cell_type": "code",
   "execution_count": 13,
   "metadata": {},
   "outputs": [
    {
     "name": "stdout",
     "output_type": "stream",
     "text": [
      "[[0.17607447]\n",
      " [0.17495567]\n",
      " [0.16862282]\n",
      " ...\n",
      " [0.96635143]\n",
      " [0.9563033 ]\n",
      " [0.96491598]]\n"
     ]
    }
   ],
   "source": [
    "print(df1)"
   ]
  },
  {
   "cell_type": "code",
   "execution_count": 14,
   "metadata": {},
   "outputs": [],
   "source": [
    "##splitting dataset into train and test split\n",
    "training_size=int(len(df1)*0.65)\n",
    "test_size=len(df1)-training_size\n",
    "train_data,test_data=df1[0:training_size,:],df1[training_size:len(df1),:1]"
   ]
  },
  {
   "cell_type": "code",
   "execution_count": 15,
   "metadata": {},
   "outputs": [
    {
     "data": {
      "text/plain": [
       "(817, 441)"
      ]
     },
     "execution_count": 15,
     "metadata": {},
     "output_type": "execute_result"
    }
   ],
   "source": [
    "training_size,test_size"
   ]
  },
  {
   "cell_type": "code",
   "execution_count": 16,
   "metadata": {},
   "outputs": [],
   "source": [
    "import numpy\n",
    "# convert an array of values into a dataset matrix\n",
    "def create_dataset(dataset, time_step=1):\n",
    "    dataX, dataY = [], []\n",
    "    for i in range(len(dataset)-time_step-1):\n",
    "        a = dataset[i:(i+time_step), 0]   ###i=0, 0,1,2,3-----99   100 \n",
    "        dataX.append(a)\n",
    "        dataY.append(dataset[i + time_step, 0])\n",
    "    return numpy.array(dataX), numpy.array(dataY)"
   ]
  },
  {
   "cell_type": "code",
   "execution_count": 17,
   "metadata": {},
   "outputs": [],
   "source": [
    "# reshape into X=t,t+1,t+2,t+3 and Y=t+4\n",
    "time_step = 100\n",
    "X_train, y_train = create_dataset(train_data, time_step)\n",
    "X_test, ytest = create_dataset(test_data, time_step)"
   ]
  },
  {
   "cell_type": "code",
   "execution_count": 18,
   "metadata": {},
   "outputs": [
    {
     "name": "stdout",
     "output_type": "stream",
     "text": [
      "(716, 100)\n",
      "(716,)\n"
     ]
    },
    {
     "data": {
      "text/plain": [
       "(None, None)"
      ]
     },
     "execution_count": 18,
     "metadata": {},
     "output_type": "execute_result"
    }
   ],
   "source": [
    "print(X_train.shape), print(y_train.shape)"
   ]
  },
  {
   "cell_type": "code",
   "execution_count": 19,
   "metadata": {},
   "outputs": [
    {
     "name": "stdout",
     "output_type": "stream",
     "text": [
      "(340, 100)\n",
      "(340,)\n"
     ]
    },
    {
     "data": {
      "text/plain": [
       "(None, None)"
      ]
     },
     "execution_count": 19,
     "metadata": {},
     "output_type": "execute_result"
    }
   ],
   "source": [
    "print(X_test.shape), print(ytest.shape)"
   ]
  },
  {
   "cell_type": "code",
   "execution_count": 20,
   "metadata": {},
   "outputs": [],
   "source": [
    "# reshape input to be [samples, time steps, features] which is required for LSTM\n",
    "X_train =X_train.reshape(X_train.shape[0],X_train.shape[1] , 1)\n",
    "X_test = X_test.reshape(X_test.shape[0],X_test.shape[1] , 1)\n",
    "\n",
    "#reshaping it into 3 dimensions, since the  last 2 dim will be as a input in LSTM!"
   ]
  },
  {
   "cell_type": "code",
   "execution_count": 21,
   "metadata": {},
   "outputs": [],
   "source": [
    "### Create the Stacked LSTM model\n",
    "from tensorflow.keras.models import Sequential\n",
    "from tensorflow.keras.layers import Dense\n",
    "from tensorflow.keras.layers import LSTM"
   ]
  },
  {
   "cell_type": "code",
   "execution_count": 22,
   "metadata": {},
   "outputs": [],
   "source": [
    "model=Sequential()\n",
    "model.add(LSTM(50,return_sequences=True,input_shape=(100,1)))\n",
    "model.add(LSTM(50,return_sequences=True))\n",
    "model.add(LSTM(50))\n",
    "model.add(Dense(1))\n",
    "model.compile(loss='mean_squared_error',optimizer='adam')"
   ]
  },
  {
   "cell_type": "code",
   "execution_count": 23,
   "metadata": {},
   "outputs": [
    {
     "name": "stdout",
     "output_type": "stream",
     "text": [
      "Model: \"sequential\"\n",
      "_________________________________________________________________\n",
      "Layer (type)                 Output Shape              Param #   \n",
      "=================================================================\n",
      "lstm (LSTM)                  (None, 100, 50)           10400     \n",
      "_________________________________________________________________\n",
      "lstm_1 (LSTM)                (None, 100, 50)           20200     \n",
      "_________________________________________________________________\n",
      "lstm_2 (LSTM)                (None, 50)                20200     \n",
      "_________________________________________________________________\n",
      "dense (Dense)                (None, 1)                 51        \n",
      "=================================================================\n",
      "Total params: 50,851\n",
      "Trainable params: 50,851\n",
      "Non-trainable params: 0\n",
      "_________________________________________________________________\n"
     ]
    }
   ],
   "source": [
    "model.summary()"
   ]
  },
  {
   "cell_type": "code",
   "execution_count": 24,
   "metadata": {},
   "outputs": [
    {
     "name": "stdout",
     "output_type": "stream",
     "text": [
      "Train on 716 samples, validate on 340 samples\n",
      "Epoch 1/100\n",
      "716/716 [==============================] - 7s 10ms/sample - loss: 0.0169 - val_loss: 0.0629\n",
      "Epoch 2/100\n",
      "716/716 [==============================] - 2s 3ms/sample - loss: 0.0037 - val_loss: 0.0045\n",
      "Epoch 3/100\n",
      "716/716 [==============================] - 2s 3ms/sample - loss: 0.0011 - val_loss: 0.0044\n",
      "Epoch 4/100\n",
      "716/716 [==============================] - 2s 3ms/sample - loss: 8.4657e-04 - val_loss: 0.0051\n",
      "Epoch 5/100\n",
      "716/716 [==============================] - 2s 3ms/sample - loss: 6.6565e-04 - val_loss: 0.0066\n",
      "Epoch 6/100\n",
      "716/716 [==============================] - 2s 3ms/sample - loss: 6.5801e-04 - val_loss: 0.0051\n",
      "Epoch 7/100\n",
      "716/716 [==============================] - 2s 3ms/sample - loss: 6.3872e-04 - val_loss: 0.0050\n",
      "Epoch 8/100\n",
      "716/716 [==============================] - 2s 3ms/sample - loss: 6.2665e-04 - val_loss: 0.0045\n",
      "Epoch 9/100\n",
      "716/716 [==============================] - 2s 3ms/sample - loss: 6.3024e-04 - val_loss: 0.0039\n",
      "Epoch 10/100\n",
      "716/716 [==============================] - 2s 3ms/sample - loss: 6.3116e-04 - val_loss: 0.0037\n",
      "Epoch 11/100\n",
      "716/716 [==============================] - 2s 3ms/sample - loss: 6.1828e-04 - val_loss: 0.0037\n",
      "Epoch 12/100\n",
      "716/716 [==============================] - 2s 3ms/sample - loss: 5.9915e-04 - val_loss: 0.0040\n",
      "Epoch 13/100\n",
      "716/716 [==============================] - 2s 3ms/sample - loss: 5.8628e-04 - val_loss: 0.0035\n",
      "Epoch 14/100\n",
      "716/716 [==============================] - 2s 3ms/sample - loss: 5.7855e-04 - val_loss: 0.0034\n",
      "Epoch 15/100\n",
      "716/716 [==============================] - 2s 3ms/sample - loss: 5.7588e-04 - val_loss: 0.0033\n",
      "Epoch 16/100\n",
      "716/716 [==============================] - 2s 3ms/sample - loss: 5.6273e-04 - val_loss: 0.0032\n",
      "Epoch 17/100\n",
      "716/716 [==============================] - 2s 3ms/sample - loss: 6.1476e-04 - val_loss: 0.0035\n",
      "Epoch 18/100\n",
      "716/716 [==============================] - 2s 3ms/sample - loss: 5.5084e-04 - val_loss: 0.0031\n",
      "Epoch 19/100\n",
      "716/716 [==============================] - 2s 3ms/sample - loss: 5.3400e-04 - val_loss: 0.0035\n",
      "Epoch 20/100\n",
      "716/716 [==============================] - 2s 3ms/sample - loss: 5.4158e-04 - val_loss: 0.0029\n",
      "Epoch 21/100\n",
      "716/716 [==============================] - 2s 3ms/sample - loss: 5.2491e-04 - val_loss: 0.0028\n",
      "Epoch 22/100\n",
      "716/716 [==============================] - 2s 3ms/sample - loss: 5.4176e-04 - val_loss: 0.0028\n",
      "Epoch 23/100\n",
      "716/716 [==============================] - 2s 3ms/sample - loss: 4.9808e-04 - val_loss: 0.0027\n",
      "Epoch 24/100\n",
      "716/716 [==============================] - 2s 3ms/sample - loss: 5.2123e-04 - val_loss: 0.0037\n",
      "Epoch 25/100\n",
      "716/716 [==============================] - 2s 3ms/sample - loss: 5.4226e-04 - val_loss: 0.0027\n",
      "Epoch 26/100\n",
      "716/716 [==============================] - 2s 3ms/sample - loss: 4.9841e-04 - val_loss: 0.0027\n",
      "Epoch 27/100\n",
      "716/716 [==============================] - 2s 3ms/sample - loss: 4.8294e-04 - val_loss: 0.0024\n",
      "Epoch 28/100\n",
      "716/716 [==============================] - 2s 3ms/sample - loss: 4.9764e-04 - val_loss: 0.0026\n",
      "Epoch 29/100\n",
      "716/716 [==============================] - 2s 3ms/sample - loss: 4.7481e-04 - val_loss: 0.0023\n",
      "Epoch 30/100\n",
      "716/716 [==============================] - 2s 3ms/sample - loss: 4.7308e-04 - val_loss: 0.0021\n",
      "Epoch 31/100\n",
      "716/716 [==============================] - 2s 3ms/sample - loss: 4.4171e-04 - val_loss: 0.0023\n",
      "Epoch 32/100\n",
      "716/716 [==============================] - 2s 3ms/sample - loss: 4.3204e-04 - val_loss: 0.0031\n",
      "Epoch 33/100\n",
      "716/716 [==============================] - 2s 3ms/sample - loss: 4.5778e-04 - val_loss: 0.0021\n",
      "Epoch 34/100\n",
      "716/716 [==============================] - 2s 3ms/sample - loss: 5.0583e-04 - val_loss: 0.0045\n",
      "Epoch 35/100\n",
      "716/716 [==============================] - 2s 3ms/sample - loss: 5.0123e-04 - val_loss: 0.0018\n",
      "Epoch 36/100\n",
      "716/716 [==============================] - 2s 3ms/sample - loss: 4.0690e-04 - val_loss: 0.0018\n",
      "Epoch 37/100\n",
      "716/716 [==============================] - 2s 3ms/sample - loss: 4.0820e-04 - val_loss: 0.0023\n",
      "Epoch 38/100\n",
      "716/716 [==============================] - 2s 3ms/sample - loss: 3.8715e-04 - val_loss: 0.0017\n",
      "Epoch 39/100\n",
      "716/716 [==============================] - 2s 3ms/sample - loss: 3.8903e-04 - val_loss: 0.0021\n",
      "Epoch 40/100\n",
      "716/716 [==============================] - 2s 3ms/sample - loss: 3.8271e-04 - val_loss: 0.0018\n",
      "Epoch 41/100\n",
      "716/716 [==============================] - 2s 3ms/sample - loss: 3.8995e-04 - val_loss: 0.0029\n",
      "Epoch 42/100\n",
      "716/716 [==============================] - 2s 3ms/sample - loss: 4.2648e-04 - val_loss: 0.0023\n",
      "Epoch 43/100\n",
      "716/716 [==============================] - 2s 3ms/sample - loss: 4.4298e-04 - val_loss: 0.0030\n",
      "Epoch 44/100\n",
      "716/716 [==============================] - 2s 3ms/sample - loss: 4.1690e-04 - val_loss: 0.0015\n",
      "Epoch 45/100\n",
      "716/716 [==============================] - 2s 3ms/sample - loss: 3.8821e-04 - val_loss: 0.0015\n",
      "Epoch 46/100\n",
      "716/716 [==============================] - 2s 3ms/sample - loss: 4.0217e-04 - val_loss: 0.0026\n",
      "Epoch 47/100\n",
      "716/716 [==============================] - 2s 3ms/sample - loss: 3.6885e-04 - val_loss: 0.0016\n",
      "Epoch 48/100\n",
      "716/716 [==============================] - 2s 3ms/sample - loss: 3.6617e-04 - val_loss: 0.0017\n",
      "Epoch 49/100\n",
      "716/716 [==============================] - 2s 3ms/sample - loss: 3.5174e-04 - val_loss: 0.0027\n",
      "Epoch 50/100\n",
      "716/716 [==============================] - 2s 3ms/sample - loss: 3.8924e-04 - val_loss: 0.0015\n",
      "Epoch 51/100\n",
      "716/716 [==============================] - 2s 3ms/sample - loss: 3.2449e-04 - val_loss: 0.0016\n",
      "Epoch 52/100\n",
      "716/716 [==============================] - 2s 3ms/sample - loss: 3.2219e-04 - val_loss: 0.0014\n",
      "Epoch 53/100\n",
      "716/716 [==============================] - 2s 3ms/sample - loss: 3.5829e-04 - val_loss: 0.0017\n",
      "Epoch 54/100\n",
      "716/716 [==============================] - 2s 3ms/sample - loss: 3.3329e-04 - val_loss: 0.0017\n",
      "Epoch 55/100\n",
      "716/716 [==============================] - 2s 3ms/sample - loss: 3.1941e-04 - val_loss: 0.0020\n",
      "Epoch 56/100\n",
      "716/716 [==============================] - 2s 3ms/sample - loss: 3.0843e-04 - val_loss: 0.0017\n",
      "Epoch 57/100\n",
      "716/716 [==============================] - 2s 3ms/sample - loss: 3.0112e-04 - val_loss: 0.0016\n",
      "Epoch 58/100\n",
      "716/716 [==============================] - 2s 3ms/sample - loss: 2.9183e-04 - val_loss: 0.0014\n",
      "Epoch 59/100\n",
      "716/716 [==============================] - 2s 3ms/sample - loss: 2.9272e-04 - val_loss: 0.0014\n",
      "Epoch 60/100\n",
      "716/716 [==============================] - 2s 3ms/sample - loss: 3.0910e-04 - val_loss: 0.0014\n",
      "Epoch 61/100\n",
      "716/716 [==============================] - 2s 3ms/sample - loss: 2.8846e-04 - val_loss: 0.0015\n",
      "Epoch 62/100\n",
      "716/716 [==============================] - 2s 3ms/sample - loss: 2.9178e-04 - val_loss: 0.0020\n",
      "Epoch 63/100\n",
      "716/716 [==============================] - 2s 3ms/sample - loss: 2.8180e-04 - val_loss: 0.0015\n",
      "Epoch 64/100\n",
      "716/716 [==============================] - 2s 3ms/sample - loss: 2.8453e-04 - val_loss: 0.0020\n",
      "Epoch 65/100\n",
      "716/716 [==============================] - 2s 3ms/sample - loss: 2.8039e-04 - val_loss: 0.0014\n",
      "Epoch 66/100\n",
      "716/716 [==============================] - 2s 3ms/sample - loss: 2.5848e-04 - val_loss: 0.0015\n",
      "Epoch 67/100\n",
      "716/716 [==============================] - 2s 3ms/sample - loss: 2.5644e-04 - val_loss: 0.0013\n",
      "Epoch 68/100\n",
      "716/716 [==============================] - 2s 3ms/sample - loss: 2.6312e-04 - val_loss: 0.0013\n",
      "Epoch 69/100\n",
      "716/716 [==============================] - 2s 3ms/sample - loss: 2.4774e-04 - val_loss: 0.0013\n",
      "Epoch 70/100\n",
      "716/716 [==============================] - 2s 3ms/sample - loss: 2.4640e-04 - val_loss: 0.0013\n",
      "Epoch 71/100\n",
      "716/716 [==============================] - 2s 3ms/sample - loss: 2.6501e-04 - val_loss: 0.0013\n",
      "Epoch 72/100\n",
      "716/716 [==============================] - 2s 3ms/sample - loss: 2.3716e-04 - val_loss: 0.0016\n",
      "Epoch 73/100\n",
      "716/716 [==============================] - 2s 3ms/sample - loss: 2.3934e-04 - val_loss: 0.0021\n",
      "Epoch 74/100\n",
      "716/716 [==============================] - 2s 3ms/sample - loss: 2.8619e-04 - val_loss: 0.0013\n",
      "Epoch 75/100\n",
      "716/716 [==============================] - 2s 3ms/sample - loss: 2.2430e-04 - val_loss: 0.0014\n",
      "Epoch 76/100\n",
      "716/716 [==============================] - 2s 3ms/sample - loss: 2.2759e-04 - val_loss: 0.0012\n",
      "Epoch 77/100\n",
      "716/716 [==============================] - 2s 3ms/sample - loss: 2.2666e-04 - val_loss: 0.0013\n",
      "Epoch 78/100\n",
      "716/716 [==============================] - 2s 3ms/sample - loss: 2.2750e-04 - val_loss: 0.0012\n",
      "Epoch 79/100\n",
      "716/716 [==============================] - 2s 3ms/sample - loss: 2.1879e-04 - val_loss: 0.0013\n",
      "Epoch 80/100\n",
      "716/716 [==============================] - 2s 3ms/sample - loss: 2.1334e-04 - val_loss: 0.0013\n",
      "Epoch 81/100\n",
      "716/716 [==============================] - 2s 3ms/sample - loss: 2.0844e-04 - val_loss: 0.0012\n",
      "Epoch 82/100\n",
      "716/716 [==============================] - 2s 3ms/sample - loss: 1.9955e-04 - val_loss: 0.0013\n",
      "Epoch 83/100\n",
      "716/716 [==============================] - 2s 3ms/sample - loss: 1.9479e-04 - val_loss: 0.0013\n",
      "Epoch 84/100\n",
      "716/716 [==============================] - 2s 3ms/sample - loss: 1.9733e-04 - val_loss: 0.0012\n",
      "Epoch 85/100\n",
      "716/716 [==============================] - 2s 3ms/sample - loss: 2.2576e-04 - val_loss: 0.0013\n",
      "Epoch 86/100\n",
      "716/716 [==============================] - 2s 3ms/sample - loss: 2.2484e-04 - val_loss: 0.0012\n",
      "Epoch 87/100\n",
      "716/716 [==============================] - 2s 3ms/sample - loss: 2.0856e-04 - val_loss: 0.0014\n",
      "Epoch 88/100\n",
      "716/716 [==============================] - 2s 3ms/sample - loss: 1.9122e-04 - val_loss: 0.0012\n",
      "Epoch 89/100\n",
      "716/716 [==============================] - 2s 3ms/sample - loss: 1.8419e-04 - val_loss: 0.0017\n",
      "Epoch 90/100\n",
      "716/716 [==============================] - 2s 3ms/sample - loss: 2.3808e-04 - val_loss: 0.0019\n",
      "Epoch 91/100\n",
      "716/716 [==============================] - 2s 3ms/sample - loss: 2.2092e-04 - val_loss: 0.0011\n",
      "Epoch 92/100\n",
      "716/716 [==============================] - 2s 3ms/sample - loss: 1.9478e-04 - val_loss: 0.0011\n",
      "Epoch 93/100\n",
      "716/716 [==============================] - 2s 3ms/sample - loss: 2.4569e-04 - val_loss: 0.0010\n",
      "Epoch 94/100\n",
      "716/716 [==============================] - 2s 3ms/sample - loss: 2.0682e-04 - val_loss: 0.0020\n",
      "Epoch 95/100\n",
      "716/716 [==============================] - 2s 3ms/sample - loss: 2.8701e-04 - val_loss: 0.0011\n",
      "Epoch 96/100\n",
      "716/716 [==============================] - 2s 3ms/sample - loss: 2.1020e-04 - val_loss: 0.0017\n",
      "Epoch 97/100\n",
      "716/716 [==============================] - 2s 3ms/sample - loss: 2.1645e-04 - val_loss: 0.0015\n",
      "Epoch 98/100\n",
      "716/716 [==============================] - 2s 3ms/sample - loss: 2.0458e-04 - val_loss: 0.0010\n",
      "Epoch 99/100\n",
      "716/716 [==============================] - 2s 3ms/sample - loss: 1.7591e-04 - val_loss: 0.0011\n",
      "Epoch 100/100\n",
      "716/716 [==============================] - 2s 3ms/sample - loss: 1.9541e-04 - val_loss: 0.0011\n"
     ]
    },
    {
     "data": {
      "text/plain": [
       "<tensorflow.python.keras.callbacks.History at 0x2d3bb4bdd88>"
      ]
     },
     "execution_count": 24,
     "metadata": {},
     "output_type": "execute_result"
    }
   ],
   "source": [
    "model.fit(X_train,y_train,validation_data=(X_test,ytest),epochs=100,batch_size=64,verbose=1)"
   ]
  },
  {
   "cell_type": "code",
   "execution_count": 25,
   "metadata": {},
   "outputs": [],
   "source": [
    "### Lets Do the prediction and check performance metrics\n",
    "train_predict=model.predict(X_train)\n",
    "test_predict=model.predict(X_test)"
   ]
  },
  {
   "cell_type": "code",
   "execution_count": 26,
   "metadata": {},
   "outputs": [],
   "source": [
    "##Transformback to original form\n",
    "train_predict=scaler.inverse_transform(train_predict)\n",
    "test_predict=scaler.inverse_transform(test_predict)"
   ]
  },
  {
   "cell_type": "code",
   "execution_count": 27,
   "metadata": {},
   "outputs": [
    {
     "data": {
      "text/plain": [
       "141.5300243702629"
      ]
     },
     "execution_count": 27,
     "metadata": {},
     "output_type": "execute_result"
    }
   ],
   "source": [
    "### Calculate RMSE performance metrics\n",
    "import math\n",
    "from sklearn.metrics import mean_squared_error\n",
    "math.sqrt(mean_squared_error(y_train,train_predict))"
   ]
  },
  {
   "cell_type": "code",
   "execution_count": 28,
   "metadata": {},
   "outputs": [
    {
     "data": {
      "text/plain": [
       "235.21515176326852"
      ]
     },
     "execution_count": 28,
     "metadata": {},
     "output_type": "execute_result"
    }
   ],
   "source": [
    "### Test Data RMSE\n",
    "math.sqrt(mean_squared_error(ytest,test_predict))"
   ]
  },
  {
   "cell_type": "code",
   "execution_count": 29,
   "metadata": {},
   "outputs": [
    {
     "data": {
      "image/png": "[encoded data removed]",
      "text/plain": [
       "<Figure size 432x288 with 1 Axes>"
      ]
     },
     "metadata": {
      "needs_background": "light"
     },
     "output_type": "display_data"
    }
   ],
   "source": [
    "### Plotting \n",
    "# shift train predictions for plotting\n",
    "look_back=100\n",
    "trainPredictPlot = numpy.empty_like(df1)\n",
    "trainPredictPlot[:, :] = np.nan\n",
    "trainPredictPlot[look_back:len(train_predict)+look_back, :] = train_predict\n",
    "# shift test predictions for plotting\n",
    "testPredictPlot = numpy.empty_like(df1)\n",
    "testPredictPlot[:, :] = numpy.nan\n",
    "testPredictPlot[len(train_predict)+(look_back*2)+1:len(df1)-1, :] = test_predict\n",
    "# plot baseline and predictions\n",
    "plt.plot(scaler.inverse_transform(df1))\n",
    "plt.plot(trainPredictPlot)\n",
    "plt.plot(testPredictPlot)\n",
    "plt.show()"
   ]
  },
  {
   "cell_type": "code",
   "execution_count": 31,
   "metadata": {},
   "outputs": [
    {
     "data": {
      "text/plain": [
       "(1, 100)"
      ]
     },
     "execution_count": 31,
     "metadata": {},
     "output_type": "execute_result"
    }
   ],
   "source": [
    "x_input=test_data[341:].reshape(1,-1)\n",
    "x_input.shape"
   ]
  },
  {
   "cell_type": "code",
   "execution_count": 32,
   "metadata": {},
   "outputs": [],
   "source": [
    "temp_input=list(x_input)\n",
    "temp_input=temp_input[0].tolist()"
   ]
  },
  {
   "cell_type": "code",
   "execution_count": 33,
   "metadata": {},
   "outputs": [
    {
     "data": {
      "text/plain": [
       "[0.8583551465000423,\n",
       " 0.8866418981676942,\n",
       " 0.8743139407244789,\n",
       " 0.8843198513890065,\n",
       " 0.8783669678290975,\n",
       " 0.8986321033521913,\n",
       " 0.925821160179009,\n",
       " 0.9287764924427933,\n",
       " 0.9567677108840666,\n",
       " 0.9386979650426415,\n",
       " 0.933040614709111,\n",
       " 0.9495060373216249,\n",
       " 0.9642404796082076,\n",
       " 0.9551211686228154,\n",
       " 0.9598919192772104,\n",
       " 0.9663514312251966,\n",
       " 0.9624672802499368,\n",
       " 0.9229502659799038,\n",
       " 0.9598497002448705,\n",
       " 0.9879253567508233,\n",
       " 0.985941062230854,\n",
       " 0.9253145317909315,\n",
       " 0.9217259140420504,\n",
       " 0.964747107996285,\n",
       " 0.9757240564046274,\n",
       " 0.9915984125643842,\n",
       " 0.9697289538123788,\n",
       " 0.9761462467280253,\n",
       " 0.9679557544541082,\n",
       " 1.0000000000000002,\n",
       " 0.9901629654648318,\n",
       " 0.9905007177235499,\n",
       " 0.9653803934813816,\n",
       " 0.9848855864223593,\n",
       " 0.9708688676855528,\n",
       " 0.9402600692392133,\n",
       " 0.8774803681499621,\n",
       " 0.8348391454867856,\n",
       " 0.8541332432660644,\n",
       " 0.7733682344000676,\n",
       " 0.7726927298826314,\n",
       " 0.8801401671873683,\n",
       " 0.8400743054969182,\n",
       " 0.8967322468969012,\n",
       " 0.8552731571392387,\n",
       " 0.8388499535590646,\n",
       " 0.7423372456303303,\n",
       " 0.8232711306256861,\n",
       " 0.7814320695769654,\n",
       " 0.6665963016127672,\n",
       " 0.7921557037912694,\n",
       " 0.6411804441442204,\n",
       " 0.6861437135860848,\n",
       " 0.6600101325677616,\n",
       " 0.6520307354555435,\n",
       " 0.5864223591995272,\n",
       " 0.5658616904500551,\n",
       " 0.660896732246897,\n",
       " 0.6551549438486872,\n",
       " 0.7097019336316812,\n",
       " 0.664527569028118,\n",
       " 0.6943764248923416,\n",
       " 0.692181035210673,\n",
       " 0.6356919699400492,\n",
       " 0.6526640209406402,\n",
       " 0.637802921557038,\n",
       " 0.7267162036646122,\n",
       " 0.7138816178333194,\n",
       " 0.7419150553069325,\n",
       " 0.7500211095161702,\n",
       " 0.7722283205268936,\n",
       " 0.8304905851557884,\n",
       " 0.8194291986827664,\n",
       " 0.8289706999915563,\n",
       " 0.8125474964113824,\n",
       " 0.7877649244279323,\n",
       " 0.7516254327450818,\n",
       " 0.7842607447437306,\n",
       " 0.7797433082833742,\n",
       " 0.8132652199611587,\n",
       " 0.8141096006079542,\n",
       " 0.7947310647639958,\n",
       " 0.8333614793548934,\n",
       " 0.8589884319851391,\n",
       " 0.8390188296884238,\n",
       " 0.8562864139153934,\n",
       " 0.8748627881448958,\n",
       " 0.887824031073208,\n",
       " 0.9009541501308793,\n",
       " 0.9279321117959978,\n",
       " 0.9485349995778098,\n",
       " 0.9333361479354896,\n",
       " 0.9174617917757326,\n",
       " 0.925441188887951,\n",
       " 0.9177151059697712,\n",
       " 0.9483239044161109,\n",
       " 0.9406400405302711,\n",
       " 0.9663514312251966,\n",
       " 0.9563033015283293,\n",
       " 0.964915984125644]"
      ]
     },
     "execution_count": 33,
     "metadata": {},
     "output_type": "execute_result"
    }
   ],
   "source": [
    "temp_input"
   ]
  },
  {
   "cell_type": "code",
   "execution_count": null,
   "metadata": {},
   "outputs": [],
   "source": []
  }
 ],
 "metadata": {
  "kernelspec": {
   "display_name": "Python 3",
   "language": "python",
   "name": "python3"
  },
  "language_info": {
   "codemirror_mode": {
    "name": "ipython",
    "version": 3
   },
   "file_extension": ".py",
   "mimetype": "text/x-python",
   "name": "python",
   "nbconvert_exporter": "python",
   "pygments_lexer": "ipython3",
   "version": "3.7.6"
  }
 },
 "nbformat": 4,
 "nbformat_minor": 4
}
