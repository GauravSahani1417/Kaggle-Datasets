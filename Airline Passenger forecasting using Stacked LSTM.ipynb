{
 "cells": [
  {
   "cell_type": "code",
   "execution_count": 1,
   "metadata": {},
   "outputs": [],
   "source": [
    "import pandas as pd"
   ]
  },
  {
   "cell_type": "code",
   "execution_count": 2,
   "metadata": {},
   "outputs": [],
   "source": [
    "df=pd.read_csv('AirPassengers.csv')"
   ]
  },
  {
   "cell_type": "code",
   "execution_count": 3,
   "metadata": {},
   "outputs": [
    {
     "data": {
      "text/html": [
       "<div>\n",
       "<style scoped>\n",
       "    .dataframe tbody tr th:only-of-type {\n",
       "        vertical-align: middle;\n",
       "    }\n",
       "\n",
       "    .dataframe tbody tr th {\n",
       "        vertical-align: top;\n",
       "    }\n",
       "\n",
       "    .dataframe thead th {\n",
       "        text-align: right;\n",
       "    }\n",
       "</style>\n",
       "<table border=\"1\" class=\"dataframe\">\n",
       "  <thead>\n",
       "    <tr style=\"text-align: right;\">\n",
       "      <th></th>\n",
       "      <th>Month</th>\n",
       "      <th>#Passengers</th>\n",
       "    </tr>\n",
       "  </thead>\n",
       "  <tbody>\n",
       "    <tr>\n",
       "      <th>0</th>\n",
       "      <td>1949-01</td>\n",
       "      <td>112</td>\n",
       "    </tr>\n",
       "    <tr>\n",
       "      <th>1</th>\n",
       "      <td>1949-02</td>\n",
       "      <td>118</td>\n",
       "    </tr>\n",
       "    <tr>\n",
       "      <th>2</th>\n",
       "      <td>1949-03</td>\n",
       "      <td>132</td>\n",
       "    </tr>\n",
       "    <tr>\n",
       "      <th>3</th>\n",
       "      <td>1949-04</td>\n",
       "      <td>129</td>\n",
       "    </tr>\n",
       "    <tr>\n",
       "      <th>4</th>\n",
       "      <td>1949-05</td>\n",
       "      <td>121</td>\n",
       "    </tr>\n",
       "  </tbody>\n",
       "</table>\n",
       "</div>"
      ],
      "text/plain": [
       "     Month  #Passengers\n",
       "0  1949-01          112\n",
       "1  1949-02          118\n",
       "2  1949-03          132\n",
       "3  1949-04          129\n",
       "4  1949-05          121"
      ]
     },
     "execution_count": 3,
     "metadata": {},
     "output_type": "execute_result"
    }
   ],
   "source": [
    "df.head()"
   ]
  },
  {
   "cell_type": "code",
   "execution_count": 4,
   "metadata": {},
   "outputs": [
    {
     "data": {
      "text/html": [
       "<div>\n",
       "<style scoped>\n",
       "    .dataframe tbody tr th:only-of-type {\n",
       "        vertical-align: middle;\n",
       "    }\n",
       "\n",
       "    .dataframe tbody tr th {\n",
       "        vertical-align: top;\n",
       "    }\n",
       "\n",
       "    .dataframe thead th {\n",
       "        text-align: right;\n",
       "    }\n",
       "</style>\n",
       "<table border=\"1\" class=\"dataframe\">\n",
       "  <thead>\n",
       "    <tr style=\"text-align: right;\">\n",
       "      <th></th>\n",
       "      <th>Month</th>\n",
       "      <th>#Passengers</th>\n",
       "    </tr>\n",
       "  </thead>\n",
       "  <tbody>\n",
       "    <tr>\n",
       "      <th>139</th>\n",
       "      <td>1960-08</td>\n",
       "      <td>606</td>\n",
       "    </tr>\n",
       "    <tr>\n",
       "      <th>140</th>\n",
       "      <td>1960-09</td>\n",
       "      <td>508</td>\n",
       "    </tr>\n",
       "    <tr>\n",
       "      <th>141</th>\n",
       "      <td>1960-10</td>\n",
       "      <td>461</td>\n",
       "    </tr>\n",
       "    <tr>\n",
       "      <th>142</th>\n",
       "      <td>1960-11</td>\n",
       "      <td>390</td>\n",
       "    </tr>\n",
       "    <tr>\n",
       "      <th>143</th>\n",
       "      <td>1960-12</td>\n",
       "      <td>432</td>\n",
       "    </tr>\n",
       "  </tbody>\n",
       "</table>\n",
       "</div>"
      ],
      "text/plain": [
       "       Month  #Passengers\n",
       "139  1960-08          606\n",
       "140  1960-09          508\n",
       "141  1960-10          461\n",
       "142  1960-11          390\n",
       "143  1960-12          432"
      ]
     },
     "execution_count": 4,
     "metadata": {},
     "output_type": "execute_result"
    }
   ],
   "source": [
    "df.tail()"
   ]
  },
  {
   "cell_type": "code",
   "execution_count": 5,
   "metadata": {},
   "outputs": [
    {
     "data": {
      "text/plain": [
       "[<matplotlib.lines.Line2D at 0x23879fcdb88>]"
      ]
     },
     "execution_count": 5,
     "metadata": {},
     "output_type": "execute_result"
    },
    {
     "data": {
      "image/png": "[encoded data removed]",
      "text/plain": [
       "<Figure size 432x288 with 1 Axes>"
      ]
     },
     "metadata": {
      "needs_background": "light"
     },
     "output_type": "display_data"
    }
   ],
   "source": [
    "import matplotlib.pyplot as plt\n",
    "plt.plot(df.iloc[:,1])"
   ]
  },
  {
   "cell_type": "markdown",
   "metadata": {},
   "source": [
    "# Scaling\n",
    "\n",
    "### LSTMs are sensitive to the scale of the input data, specifically when the sigmoid (default) or tanh activation functions are used. It can be a good practice to rescale the data to the range of 0-to-1, also called normalizing. We can easily normalize the dataset using the MinMaxScaler preprocessing class from the scikit-learn library."
   ]
  },
  {
   "cell_type": "code",
   "execution_count": 6,
   "metadata": {},
   "outputs": [
    {
     "data": {
      "text/plain": [
       "0      112\n",
       "1      118\n",
       "2      132\n",
       "3      129\n",
       "4      121\n",
       "      ... \n",
       "139    606\n",
       "140    508\n",
       "141    461\n",
       "142    390\n",
       "143    432\n",
       "Name: #Passengers, Length: 144, dtype: int64"
      ]
     },
     "execution_count": 6,
     "metadata": {},
     "output_type": "execute_result"
    }
   ],
   "source": [
    "from sklearn.preprocessing import MinMaxScaler\n",
    "df.iloc[:,1]"
   ]
  },
  {
   "cell_type": "code",
   "execution_count": 7,
   "metadata": {},
   "outputs": [],
   "source": [
    "scaler=MinMaxScaler(feature_range=(0,1))\n",
    "df=scaler.fit_transform(df.iloc[:,1:])"
   ]
  },
  {
   "cell_type": "code",
   "execution_count": 8,
   "metadata": {},
   "outputs": [
    {
     "data": {
      "text/plain": [
       "(144, 1)"
      ]
     },
     "execution_count": 8,
     "metadata": {},
     "output_type": "execute_result"
    }
   ],
   "source": [
    "df.shape"
   ]
  },
  {
   "cell_type": "code",
   "execution_count": 10,
   "metadata": {},
   "outputs": [
    {
     "data": {
      "text/plain": [
       "array([[0.01544402],\n",
       "       [0.02702703],\n",
       "       [0.05405405],\n",
       "       [0.04826255],\n",
       "       [0.03281853],\n",
       "       [0.05984556],\n",
       "       [0.08494208],\n",
       "       [0.08494208],\n",
       "       [0.06177606],\n",
       "       [0.02895753],\n",
       "       [0.        ],\n",
       "       [0.02702703],\n",
       "       [0.02123552],\n",
       "       [0.04247104],\n",
       "       [0.07142857],\n",
       "       [0.05984556],\n",
       "       [0.04054054],\n",
       "       [0.08687259],\n",
       "       [0.12741313],\n",
       "       [0.12741313],\n",
       "       [0.1042471 ],\n",
       "       [0.05598456],\n",
       "       [0.01930502],\n",
       "       [0.06949807],\n",
       "       [0.07915058],\n",
       "       [0.08880309],\n",
       "       [0.14285714],\n",
       "       [0.11389961],\n",
       "       [0.13127413],\n",
       "       [0.14285714],\n",
       "       [0.18339768],\n",
       "       [0.18339768],\n",
       "       [0.15444015],\n",
       "       [0.11196911],\n",
       "       [0.08108108],\n",
       "       [0.11969112],\n",
       "       [0.12934363],\n",
       "       [0.14671815],\n",
       "       [0.17181467],\n",
       "       [0.14864865],\n",
       "       [0.15250965],\n",
       "       [0.22007722],\n",
       "       [0.24324324],\n",
       "       [0.26640927],\n",
       "       [0.2027027 ],\n",
       "       [0.16795367],\n",
       "       [0.13127413],\n",
       "       [0.17374517],\n",
       "       [0.17760618],\n",
       "       [0.17760618],\n",
       "       [0.25482625],\n",
       "       [0.25289575],\n",
       "       [0.24131274],\n",
       "       [0.26833977],\n",
       "       [0.30888031],\n",
       "       [0.32432432],\n",
       "       [0.25675676],\n",
       "       [0.20656371],\n",
       "       [0.14671815],\n",
       "       [0.18725869],\n",
       "       [0.19305019],\n",
       "       [0.16216216],\n",
       "       [0.25289575],\n",
       "       [0.23745174],\n",
       "       [0.25096525],\n",
       "       [0.30888031],\n",
       "       [0.38223938],\n",
       "       [0.36486486],\n",
       "       [0.2992278 ],\n",
       "       [0.24131274],\n",
       "       [0.19111969],\n",
       "       [0.24131274],\n",
       "       [0.26640927],\n",
       "       [0.24903475],\n",
       "       [0.31467181],\n",
       "       [0.31853282],\n",
       "       [0.32046332],\n",
       "       [0.40733591],\n",
       "       [0.5019305 ],\n",
       "       [0.46911197],\n",
       "       [0.4015444 ],\n",
       "       [0.32818533],\n",
       "       [0.25675676],\n",
       "       [0.33590734],\n",
       "       [0.34749035],\n",
       "       [0.33397683],\n",
       "       [0.41119691],\n",
       "       [0.4034749 ],\n",
       "       [0.41312741],\n",
       "       [0.52123552],\n",
       "       [0.5965251 ],\n",
       "       [0.58108108],\n",
       "       [0.48455598],\n",
       "       [0.38996139],\n",
       "       [0.32239382],\n",
       "       [0.38996139],\n",
       "       [0.40733591],\n",
       "       [0.38030888],\n",
       "       [0.48648649],\n",
       "       [0.47104247],\n",
       "       [0.48455598],\n",
       "       [0.61389961],\n",
       "       [0.6969112 ],\n",
       "       [0.7007722 ],\n",
       "       [0.57915058],\n",
       "       [0.46911197],\n",
       "       [0.38803089],\n",
       "       [0.44787645],\n",
       "       [0.45559846],\n",
       "       [0.41312741],\n",
       "       [0.4980695 ],\n",
       "       [0.47104247],\n",
       "       [0.5       ],\n",
       "       [0.63899614],\n",
       "       [0.74710425],\n",
       "       [0.77413127],\n",
       "       [0.57915058],\n",
       "       [0.49227799],\n",
       "       [0.3976834 ],\n",
       "       [0.44980695],\n",
       "       [0.49420849],\n",
       "       [0.45945946],\n",
       "       [0.58301158],\n",
       "       [0.56370656],\n",
       "       [0.61003861],\n",
       "       [0.71042471],\n",
       "       [0.85714286],\n",
       "       [0.87837838],\n",
       "       [0.69305019],\n",
       "       [0.58494208],\n",
       "       [0.4980695 ],\n",
       "       [0.58108108],\n",
       "       [0.6042471 ],\n",
       "       [0.55405405],\n",
       "       [0.60810811],\n",
       "       [0.68918919],\n",
       "       [0.71042471],\n",
       "       [0.83204633],\n",
       "       [1.        ],\n",
       "       [0.96911197],\n",
       "       [0.77992278],\n",
       "       [0.68918919],\n",
       "       [0.55212355],\n",
       "       [0.63320463]])"
      ]
     },
     "execution_count": 10,
     "metadata": {},
     "output_type": "execute_result"
    }
   ],
   "source": [
    "df"
   ]
  },
  {
   "cell_type": "code",
   "execution_count": 11,
   "metadata": {},
   "outputs": [],
   "source": [
    "##splitting dataset into train and test split\n",
    "training_size=int(len(df)*0.65)"
   ]
  },
  {
   "cell_type": "code",
   "execution_count": 12,
   "metadata": {},
   "outputs": [],
   "source": [
    "test_size=len(df)-training_size"
   ]
  },
  {
   "cell_type": "code",
   "execution_count": 13,
   "metadata": {},
   "outputs": [
    {
     "data": {
      "text/plain": [
       "(93, 51)"
      ]
     },
     "execution_count": 13,
     "metadata": {},
     "output_type": "execute_result"
    }
   ],
   "source": [
    "training_size, test_size"
   ]
  },
  {
   "cell_type": "code",
   "execution_count": 14,
   "metadata": {},
   "outputs": [],
   "source": [
    "train_data,test_data=df[0:training_size,:],df[training_size:len(df),:1]"
   ]
  },
  {
   "cell_type": "code",
   "execution_count": 15,
   "metadata": {},
   "outputs": [
    {
     "data": {
      "text/plain": [
       "array([[0.38996139],\n",
       "       [0.32239382],\n",
       "       [0.38996139],\n",
       "       [0.40733591],\n",
       "       [0.38030888],\n",
       "       [0.48648649],\n",
       "       [0.47104247],\n",
       "       [0.48455598],\n",
       "       [0.61389961],\n",
       "       [0.6969112 ],\n",
       "       [0.7007722 ],\n",
       "       [0.57915058],\n",
       "       [0.46911197],\n",
       "       [0.38803089],\n",
       "       [0.44787645],\n",
       "       [0.45559846],\n",
       "       [0.41312741],\n",
       "       [0.4980695 ],\n",
       "       [0.47104247],\n",
       "       [0.5       ],\n",
       "       [0.63899614],\n",
       "       [0.74710425],\n",
       "       [0.77413127],\n",
       "       [0.57915058],\n",
       "       [0.49227799],\n",
       "       [0.3976834 ],\n",
       "       [0.44980695],\n",
       "       [0.49420849],\n",
       "       [0.45945946],\n",
       "       [0.58301158],\n",
       "       [0.56370656],\n",
       "       [0.61003861],\n",
       "       [0.71042471],\n",
       "       [0.85714286],\n",
       "       [0.87837838],\n",
       "       [0.69305019],\n",
       "       [0.58494208],\n",
       "       [0.4980695 ],\n",
       "       [0.58108108],\n",
       "       [0.6042471 ],\n",
       "       [0.55405405],\n",
       "       [0.60810811],\n",
       "       [0.68918919],\n",
       "       [0.71042471],\n",
       "       [0.83204633],\n",
       "       [1.        ],\n",
       "       [0.96911197],\n",
       "       [0.77992278],\n",
       "       [0.68918919],\n",
       "       [0.55212355],\n",
       "       [0.63320463]])"
      ]
     },
     "execution_count": 15,
     "metadata": {},
     "output_type": "execute_result"
    }
   ],
   "source": [
    "test_data"
   ]
  },
  {
   "cell_type": "code",
   "execution_count": 16,
   "metadata": {},
   "outputs": [],
   "source": [
    "import numpy\n",
    "# convert an array of values into a dataset matrix\n",
    "def create_dataset(dataset, time_step=1):\n",
    "    dataX, dataY = [], []\n",
    "    for i in range(len(dataset)-time_step-1):\n",
    "        a = dataset[i:(i+time_step), 0]   ###i=0, 0,1,2,3\n",
    "        dataX.append(a)\n",
    "        dataY.append(dataset[i + time_step, 0])\n",
    "    return numpy.array(dataX), numpy.array(dataY)"
   ]
  },
  {
   "cell_type": "code",
   "execution_count": 24,
   "metadata": {},
   "outputs": [],
   "source": [
    "# reshape into X=t,t+1,t+2,t+3 and Y=t+4\n",
    "time_step = 4\n",
    "X_train, y_train = create_dataset(train_data, time_step)\n",
    "X_test, y_test = create_dataset(test_data, time_step)"
   ]
  },
  {
   "cell_type": "code",
   "execution_count": 25,
   "metadata": {},
   "outputs": [
    {
     "data": {
      "text/plain": [
       "((46, 4), (88, 4))"
      ]
     },
     "execution_count": 25,
     "metadata": {},
     "output_type": "execute_result"
    }
   ],
   "source": [
    "X_test.shape,X_train.shape"
   ]
  },
  {
   "cell_type": "code",
   "execution_count": 26,
   "metadata": {},
   "outputs": [
    {
     "data": {
      "text/plain": [
       "(46,)"
      ]
     },
     "execution_count": 26,
     "metadata": {},
     "output_type": "execute_result"
    }
   ],
   "source": [
    "y_test.shape"
   ]
  },
  {
   "cell_type": "code",
   "execution_count": 27,
   "metadata": {},
   "outputs": [],
   "source": [
    "import numpy as np\n",
    "# reshape input to be [samples, time steps, features] which is required for LSTM\n",
    "X_train =X_train.reshape(X_train.shape[0], 4, 1)\n",
    "X_test = X_test.reshape(X_test.shape[0], 4, 1)"
   ]
  },
  {
   "cell_type": "code",
   "execution_count": 28,
   "metadata": {},
   "outputs": [
    {
     "data": {
      "text/plain": [
       "(88, 4, 1)"
      ]
     },
     "execution_count": 28,
     "metadata": {},
     "output_type": "execute_result"
    }
   ],
   "source": [
    "X_train.shape"
   ]
  },
  {
   "cell_type": "code",
   "execution_count": 29,
   "metadata": {},
   "outputs": [],
   "source": [
    "from tensorflow.keras.models import Sequential\n",
    "from tensorflow.keras.layers import Dense\n",
    "from tensorflow.keras.layers import LSTM"
   ]
  },
  {
   "cell_type": "code",
   "execution_count": 35,
   "metadata": {},
   "outputs": [
    {
     "name": "stdout",
     "output_type": "stream",
     "text": [
      "Train on 88 samples, validate on 46 samples\n",
      "Epoch 1/100\n",
      "88/88 [==============================] - 4s 41ms/sample - loss: 0.0168 - val_loss: 0.0327\n",
      "Epoch 2/100\n",
      "88/88 [==============================] - 1s 6ms/sample - loss: 0.0065 - val_loss: 0.0331\n",
      "Epoch 3/100\n",
      "88/88 [==============================] - 1s 6ms/sample - loss: 0.0074 - val_loss: 0.0258\n",
      "Epoch 4/100\n",
      "88/88 [==============================] - 1s 6ms/sample - loss: 0.0054 - val_loss: 0.0317\n",
      "Epoch 5/100\n",
      "88/88 [==============================] - 1s 6ms/sample - loss: 0.0059 - val_loss: 0.0298\n",
      "Epoch 6/100\n",
      "88/88 [==============================] - ETA: 0s - loss: 0.006 - 1s 6ms/sample - loss: 0.0055 - val_loss: 0.0383\n",
      "Epoch 7/100\n",
      "88/88 [==============================] - 1s 6ms/sample - loss: 0.0055 - val_loss: 0.0271\n",
      "Epoch 8/100\n",
      "88/88 [==============================] - 1s 6ms/sample - loss: 0.0053 - val_loss: 0.0248\n",
      "Epoch 9/100\n",
      "88/88 [==============================] - 1s 6ms/sample - loss: 0.0049 - val_loss: 0.0274\n",
      "Epoch 10/100\n",
      "88/88 [==============================] - 1s 6ms/sample - loss: 0.0049 - val_loss: 0.0345\n",
      "Epoch 11/100\n",
      "88/88 [==============================] - 1s 6ms/sample - loss: 0.0057 - val_loss: 0.0276\n",
      "Epoch 12/100\n",
      "88/88 [==============================] - 1s 6ms/sample - loss: 0.0052 - val_loss: 0.0200\n",
      "Epoch 13/100\n",
      "88/88 [==============================] - 1s 6ms/sample - loss: 0.0048 - val_loss: 0.0244\n",
      "Epoch 14/100\n",
      "88/88 [==============================] - 1s 6ms/sample - loss: 0.0042 - val_loss: 0.0183\n",
      "Epoch 15/100\n",
      "88/88 [==============================] - 0s 6ms/sample - loss: 0.0044 - val_loss: 0.0163\n",
      "Epoch 16/100\n",
      "88/88 [==============================] - 1s 6ms/sample - loss: 0.0038 - val_loss: 0.0152\n",
      "Epoch 17/100\n",
      "88/88 [==============================] - 0s 6ms/sample - loss: 0.0038 - val_loss: 0.0183\n",
      "Epoch 18/100\n",
      "88/88 [==============================] - 1s 6ms/sample - loss: 0.0031 - val_loss: 0.0112\n",
      "Epoch 19/100\n",
      "88/88 [==============================] - 0s 6ms/sample - loss: 0.0029 - val_loss: 0.0195\n",
      "Epoch 20/100\n",
      "88/88 [==============================] - 1s 6ms/sample - loss: 0.0028 - val_loss: 0.0103\n",
      "Epoch 21/100\n",
      "88/88 [==============================] - 0s 6ms/sample - loss: 0.0024 - val_loss: 0.0083\n",
      "Epoch 22/100\n",
      "88/88 [==============================] - 1s 6ms/sample - loss: 0.0024 - val_loss: 0.0118\n",
      "Epoch 23/100\n",
      "88/88 [==============================] - 0s 5ms/sample - loss: 0.0022 - val_loss: 0.0129\n",
      "Epoch 24/100\n",
      "88/88 [==============================] - 1s 6ms/sample - loss: 0.0025 - val_loss: 0.0119\n",
      "Epoch 25/100\n",
      "88/88 [==============================] - 0s 6ms/sample - loss: 0.0020 - val_loss: 0.0093\n",
      "Epoch 26/100\n",
      "88/88 [==============================] - 1s 6ms/sample - loss: 0.0018 - val_loss: 0.0083\n",
      "Epoch 27/100\n",
      "88/88 [==============================] - 0s 5ms/sample - loss: 0.0019 - val_loss: 0.0080\n",
      "Epoch 28/100\n",
      "88/88 [==============================] - 1s 6ms/sample - loss: 0.0018 - val_loss: 0.0093\n",
      "Epoch 29/100\n",
      "88/88 [==============================] - 0s 6ms/sample - loss: 0.0021 - val_loss: 0.0084\n",
      "Epoch 30/100\n",
      "88/88 [==============================] - 1s 6ms/sample - loss: 0.0022 - val_loss: 0.0121\n",
      "Epoch 31/100\n",
      "88/88 [==============================] - 0s 6ms/sample - loss: 0.0020 - val_loss: 0.0113\n",
      "Epoch 32/100\n",
      "88/88 [==============================] - 1s 6ms/sample - loss: 0.0021 - val_loss: 0.0096\n",
      "Epoch 33/100\n",
      "88/88 [==============================] - 1s 6ms/sample - loss: 0.0019 - val_loss: 0.0107\n",
      "Epoch 34/100\n",
      "88/88 [==============================] - 1s 6ms/sample - loss: 0.0019 - val_loss: 0.0090\n",
      "Epoch 35/100\n",
      "88/88 [==============================] - 1s 6ms/sample - loss: 0.0022 - val_loss: 0.0132\n",
      "Epoch 36/100\n",
      "88/88 [==============================] - 1s 6ms/sample - loss: 0.0020 - val_loss: 0.0084\n",
      "Epoch 37/100\n",
      "88/88 [==============================] - 0s 6ms/sample - loss: 0.0019 - val_loss: 0.0083\n",
      "Epoch 38/100\n",
      "88/88 [==============================] - 1s 6ms/sample - loss: 0.0019 - val_loss: 0.0172\n",
      "Epoch 39/100\n",
      "88/88 [==============================] - 1s 6ms/sample - loss: 0.0020 - val_loss: 0.0082\n",
      "Epoch 40/100\n",
      "88/88 [==============================] - 1s 6ms/sample - loss: 0.0021 - val_loss: 0.0074\n",
      "Epoch 41/100\n",
      "88/88 [==============================] - 1s 6ms/sample - loss: 0.0021 - val_loss: 0.0086\n",
      "Epoch 42/100\n",
      "88/88 [==============================] - 1s 6ms/sample - loss: 0.0019 - val_loss: 0.0082\n",
      "Epoch 43/100\n",
      "88/88 [==============================] - 1s 6ms/sample - loss: 0.0019 - val_loss: 0.0095\n",
      "Epoch 44/100\n",
      "88/88 [==============================] - 1s 6ms/sample - loss: 0.0019 - val_loss: 0.0078\n",
      "Epoch 45/100\n",
      "88/88 [==============================] - 0s 6ms/sample - loss: 0.0019 - val_loss: 0.0115\n",
      "Epoch 46/100\n",
      "88/88 [==============================] - 1s 6ms/sample - loss: 0.0019 - val_loss: 0.0074\n",
      "Epoch 47/100\n",
      "88/88 [==============================] - 1s 6ms/sample - loss: 0.0020 - val_loss: 0.0076\n",
      "Epoch 48/100\n",
      "88/88 [==============================] - 1s 6ms/sample - loss: 0.0019 - val_loss: 0.0156\n",
      "Epoch 49/100\n",
      "88/88 [==============================] - 1s 6ms/sample - loss: 0.0019 - val_loss: 0.0105\n",
      "Epoch 50/100\n",
      "88/88 [==============================] - 1s 6ms/sample - loss: 0.0021 - val_loss: 0.0133\n",
      "Epoch 51/100\n",
      "88/88 [==============================] - 1s 6ms/sample - loss: 0.0018 - val_loss: 0.0107\n",
      "Epoch 52/100\n",
      "88/88 [==============================] - 1s 6ms/sample - loss: 0.0019 - val_loss: 0.0149\n",
      "Epoch 53/100\n",
      "88/88 [==============================] - 1s 6ms/sample - loss: 0.0021 - val_loss: 0.0114\n",
      "Epoch 54/100\n",
      "88/88 [==============================] - 1s 6ms/sample - loss: 0.0019 - val_loss: 0.0074\n",
      "Epoch 55/100\n",
      "88/88 [==============================] - 1s 6ms/sample - loss: 0.0020 - val_loss: 0.0167\n",
      "Epoch 56/100\n",
      "88/88 [==============================] - 1s 6ms/sample - loss: 0.0022 - val_loss: 0.0138\n",
      "Epoch 57/100\n",
      "88/88 [==============================] - 1s 6ms/sample - loss: 0.0018 - val_loss: 0.0094\n",
      "Epoch 58/100\n",
      "88/88 [==============================] - 1s 6ms/sample - loss: 0.0019 - val_loss: 0.0170\n",
      "Epoch 59/100\n",
      "88/88 [==============================] - 1s 6ms/sample - loss: 0.0017 - val_loss: 0.0105\n",
      "Epoch 60/100\n",
      "88/88 [==============================] - 1s 6ms/sample - loss: 0.0022 - val_loss: 0.0114\n",
      "Epoch 61/100\n",
      "88/88 [==============================] - 1s 6ms/sample - loss: 0.0019 - val_loss: 0.0192\n",
      "Epoch 62/100\n",
      "88/88 [==============================] - 1s 6ms/sample - loss: 0.0019 - val_loss: 0.0071\n",
      "Epoch 63/100\n",
      "88/88 [==============================] - 1s 6ms/sample - loss: 0.0019 - val_loss: 0.0086\n",
      "Epoch 64/100\n",
      "88/88 [==============================] - 1s 6ms/sample - loss: 0.0019 - val_loss: 0.0094\n",
      "Epoch 65/100\n",
      "88/88 [==============================] - 1s 6ms/sample - loss: 0.0021 - val_loss: 0.0190\n",
      "Epoch 66/100\n",
      "88/88 [==============================] - 1s 6ms/sample - loss: 0.0019 - val_loss: 0.0157\n",
      "Epoch 67/100\n",
      "88/88 [==============================] - 1s 6ms/sample - loss: 0.0019 - val_loss: 0.0222\n",
      "Epoch 68/100\n",
      "88/88 [==============================] - 1s 6ms/sample - loss: 0.0019 - val_loss: 0.0118\n",
      "Epoch 69/100\n",
      "88/88 [==============================] - 1s 6ms/sample - loss: 0.0019 - val_loss: 0.0088\n",
      "Epoch 70/100\n",
      "88/88 [==============================] - 0s 6ms/sample - loss: 0.0022 - val_loss: 0.0158\n",
      "Epoch 71/100\n",
      "88/88 [==============================] - 1s 6ms/sample - loss: 0.0020 - val_loss: 0.0076\n",
      "Epoch 72/100\n",
      "88/88 [==============================] - 1s 6ms/sample - loss: 0.0018 - val_loss: 0.0076\n",
      "Epoch 73/100\n",
      "88/88 [==============================] - 1s 6ms/sample - loss: 0.0019 - val_loss: 0.0133\n",
      "Epoch 74/100\n",
      "88/88 [==============================] - 0s 6ms/sample - loss: 0.0019 - val_loss: 0.0111\n",
      "Epoch 75/100\n",
      "88/88 [==============================] - 1s 7ms/sample - loss: 0.0020 - val_loss: 0.0097\n",
      "Epoch 76/100\n",
      "88/88 [==============================] - 1s 6ms/sample - loss: 0.0018 - val_loss: 0.0093\n",
      "Epoch 77/100\n",
      "88/88 [==============================] - 1s 6ms/sample - loss: 0.0019 - val_loss: 0.0120\n",
      "Epoch 78/100\n",
      "88/88 [==============================] - 1s 6ms/sample - loss: 0.0018 - val_loss: 0.0075\n",
      "Epoch 79/100\n",
      "88/88 [==============================] - 1s 6ms/sample - loss: 0.0021 - val_loss: 0.0310\n",
      "Epoch 80/100\n",
      "88/88 [==============================] - 1s 6ms/sample - loss: 0.0020 - val_loss: 0.0134\n",
      "Epoch 81/100\n",
      "88/88 [==============================] - 1s 6ms/sample - loss: 0.0018 - val_loss: 0.0120\n",
      "Epoch 82/100\n",
      "88/88 [==============================] - 1s 6ms/sample - loss: 0.0018 - val_loss: 0.0341\n",
      "Epoch 83/100\n",
      "88/88 [==============================] - 1s 6ms/sample - loss: 0.0021 - val_loss: 0.0130\n",
      "Epoch 84/100\n",
      "88/88 [==============================] - 1s 6ms/sample - loss: 0.0019 - val_loss: 0.0101\n",
      "Epoch 85/100\n",
      "88/88 [==============================] - 1s 6ms/sample - loss: 0.0019 - val_loss: 0.0129\n",
      "Epoch 86/100\n",
      "88/88 [==============================] - 1s 6ms/sample - loss: 0.0018 - val_loss: 0.0110\n",
      "Epoch 87/100\n",
      "88/88 [==============================] - 1s 6ms/sample - loss: 0.0018 - val_loss: 0.0166\n",
      "Epoch 88/100\n",
      "88/88 [==============================] - 1s 6ms/sample - loss: 0.0020 - val_loss: 0.0103\n",
      "Epoch 89/100\n",
      "88/88 [==============================] - 1s 6ms/sample - loss: 0.0018 - val_loss: 0.0078\n",
      "Epoch 90/100\n",
      "88/88 [==============================] - 0s 6ms/sample - loss: 0.0019 - val_loss: 0.0101\n",
      "Epoch 91/100\n",
      "88/88 [==============================] - 1s 6ms/sample - loss: 0.0018 - val_loss: 0.0146\n",
      "Epoch 92/100\n",
      "88/88 [==============================] - 1s 6ms/sample - loss: 0.0020 - val_loss: 0.0105\n",
      "Epoch 93/100\n",
      "88/88 [==============================] - 1s 6ms/sample - loss: 0.0022 - val_loss: 0.0139\n",
      "Epoch 94/100\n",
      "88/88 [==============================] - 1s 6ms/sample - loss: 0.0018 - val_loss: 0.0137\n",
      "Epoch 95/100\n",
      "88/88 [==============================] - 1s 6ms/sample - loss: 0.0018 - val_loss: 0.0107\n",
      "Epoch 96/100\n",
      "88/88 [==============================] - 1s 6ms/sample - loss: 0.0019 - val_loss: 0.0159\n",
      "Epoch 97/100\n",
      "88/88 [==============================] - 1s 6ms/sample - loss: 0.0019 - val_loss: 0.0078\n",
      "Epoch 98/100\n",
      "88/88 [==============================] - 0s 6ms/sample - loss: 0.0019 - val_loss: 0.0104\n",
      "Epoch 99/100\n",
      "88/88 [==============================] - 1s 6ms/sample - loss: 0.0019 - val_loss: 0.0128\n",
      "Epoch 100/100\n",
      "88/88 [==============================] - 1s 6ms/sample - loss: 0.0019 - val_loss: 0.0100\n"
     ]
    },
    {
     "data": {
      "text/plain": [
       "<tensorflow.python.keras.callbacks.History at 0x2380ce6ed08>"
      ]
     },
     "execution_count": 35,
     "metadata": {},
     "output_type": "execute_result"
    }
   ],
   "source": [
    "model=Sequential()\n",
    "model.add(LSTM(50,return_sequences=True,input_shape=(4,1)))\n",
    "model.add(LSTM(50))\n",
    "model.add(Dense(1))\n",
    "model.compile(loss='mean_squared_error',optimizer='adam')\n",
    "model.fit(X_train,y_train,validation_data=(X_test,y_test),epochs=100,batch_size=1,verbose=1)"
   ]
  },
  {
   "cell_type": "code",
   "execution_count": 36,
   "metadata": {},
   "outputs": [],
   "source": [
    "### Lets Do the prediction and check performance metrics\n",
    "train_predict=model.predict(X_train)\n",
    "test_predict=model.predict(X_test)"
   ]
  },
  {
   "cell_type": "code",
   "execution_count": 37,
   "metadata": {},
   "outputs": [
    {
     "data": {
      "text/plain": [
       "array([[0.41291153],\n",
       "       [0.38457155],\n",
       "       [0.57879525],\n",
       "       [0.42852104],\n",
       "       [0.5282173 ],\n",
       "       [0.7107168 ],\n",
       "       [0.68178374],\n",
       "       [0.6548226 ],\n",
       "       [0.44585454],\n",
       "       [0.42263943],\n",
       "       [0.35305488],\n",
       "       [0.5153903 ],\n",
       "       [0.44367403],\n",
       "       [0.40654778],\n",
       "       [0.58510643],\n",
       "       [0.42025644],\n",
       "       [0.55623215],\n",
       "       [0.733923  ],\n",
       "       [0.74455184],\n",
       "       [0.71803   ],\n",
       "       [0.34290314],\n",
       "       [0.51140535],\n",
       "       [0.31142905],\n",
       "       [0.5196262 ],\n",
       "       [0.50557214],\n",
       "       [0.4359936 ],\n",
       "       [0.7059428 ],\n",
       "       [0.4676137 ],\n",
       "       [0.6865556 ],\n",
       "       [0.73767793],\n",
       "       [0.8877535 ],\n",
       "       [0.69066197],\n",
       "       [0.4224221 ],\n",
       "       [0.5216587 ],\n",
       "       [0.3548295 ],\n",
       "       [0.6529823 ],\n",
       "       [0.5376292 ],\n",
       "       [0.5090233 ],\n",
       "       [0.67484486],\n",
       "       [0.6826318 ],\n",
       "       [0.6457321 ],\n",
       "       [0.9101049 ],\n",
       "       [0.931906  ],\n",
       "       [0.5883444 ],\n",
       "       [0.4851647 ],\n",
       "       [0.5095917 ]], dtype=float32)"
      ]
     },
     "execution_count": 37,
     "metadata": {},
     "output_type": "execute_result"
    }
   ],
   "source": [
    "test_predict"
   ]
  },
  {
   "cell_type": "code",
   "execution_count": 38,
   "metadata": {},
   "outputs": [],
   "source": [
    "##Transformback to original form\n",
    "train_predict=scaler.inverse_transform(train_predict)\n",
    "test_predict=scaler.inverse_transform(test_predict)"
   ]
  },
  {
   "cell_type": "code",
   "execution_count": 39,
   "metadata": {},
   "outputs": [
    {
     "data": {
      "text/plain": [
       "array([[317.88818],\n",
       "       [303.20807],\n",
       "       [403.81595],\n",
       "       [325.9739 ],\n",
       "       [377.61658],\n",
       "       [472.1513 ],\n",
       "       [457.164  ],\n",
       "       [443.19812],\n",
       "       [334.95267],\n",
       "       [322.92725],\n",
       "       [286.88245],\n",
       "       [370.97217],\n",
       "       [333.82315],\n",
       "       [314.59177],\n",
       "       [407.08514],\n",
       "       [321.69284],\n",
       "       [392.12827],\n",
       "       [484.17215],\n",
       "       [489.67786],\n",
       "       [475.93954],\n",
       "       [281.62384],\n",
       "       [368.908  ],\n",
       "       [265.32025],\n",
       "       [373.16638],\n",
       "       [365.88638],\n",
       "       [329.8447 ],\n",
       "       [469.67838],\n",
       "       [346.2239 ],\n",
       "       [459.63583],\n",
       "       [486.1172 ],\n",
       "       [563.85626],\n",
       "       [461.7629 ],\n",
       "       [322.81467],\n",
       "       [374.21924],\n",
       "       [287.8017 ],\n",
       "       [442.24484],\n",
       "       [382.49194],\n",
       "       [367.67407],\n",
       "       [453.56964],\n",
       "       [457.60327],\n",
       "       [438.48926],\n",
       "       [575.4343 ],\n",
       "       [586.7273 ],\n",
       "       [408.76242],\n",
       "       [355.31534],\n",
       "       [367.9685 ]], dtype=float32)"
      ]
     },
     "execution_count": 39,
     "metadata": {},
     "output_type": "execute_result"
    }
   ],
   "source": [
    "test_predict"
   ]
  },
  {
   "cell_type": "code",
   "execution_count": 40,
   "metadata": {},
   "outputs": [
    {
     "data": {
      "text/plain": [
       "229.8435312546515"
      ]
     },
     "execution_count": 40,
     "metadata": {},
     "output_type": "execute_result"
    }
   ],
   "source": [
    "### Calculate RMSE performance metrics\n",
    "import math\n",
    "from sklearn.metrics import mean_squared_error\n",
    "math.sqrt(mean_squared_error(y_train,train_predict))"
   ]
  },
  {
   "cell_type": "code",
   "execution_count": 41,
   "metadata": {},
   "outputs": [
    {
     "data": {
      "text/plain": [
       "403.3439326189742"
      ]
     },
     "execution_count": 41,
     "metadata": {},
     "output_type": "execute_result"
    }
   ],
   "source": [
    "### Test Data RMSE\n",
    "math.sqrt(mean_squared_error(y_test,test_predict))"
   ]
  },
  {
   "cell_type": "code",
   "execution_count": 45,
   "metadata": {},
   "outputs": [
    {
     "data": {
      "image/png": "[encoded data removed]",
      "text/plain": [
       "<Figure size 432x288 with 1 Axes>"
      ]
     },
     "metadata": {
      "needs_background": "light"
     },
     "output_type": "display_data"
    }
   ],
   "source": [
    "### Plotting \n",
    "# shift train predictions for plotting\n",
    "look_back=4\n",
    "trainPredictPlot = numpy.empty_like(df)\n",
    "trainPredictPlot[:, :] = np.nan\n",
    "trainPredictPlot[look_back:len(train_predict)+look_back, :] = train_predict\n",
    "# shift test predictions for plotting\n",
    "testPredictPlot = numpy.empty_like(df)\n",
    "testPredictPlot[:, :] = numpy.nan\n",
    "testPredictPlot[len(train_predict)+(look_back*2)+1:len(df)-1, :] = test_predict\n",
    "# plot baseline and predictions\n",
    "plt.plot(scaler.inverse_transform(df))\n",
    "plt.plot(trainPredictPlot)\n",
    "plt.plot(testPredictPlot)\n",
    "plt.show()"
   ]
  },
  {
   "cell_type": "code",
   "execution_count": null,
   "metadata": {},
   "outputs": [],
   "source": []
  }
 ],
 "metadata": {
  "kernelspec": {
   "display_name": "Python 3",
   "language": "python",
   "name": "python3"
  },
  "language_info": {
   "codemirror_mode": {
    "name": "ipython",
    "version": 3
   },
   "file_extension": ".py",
   "mimetype": "text/x-python",
   "name": "python",
   "nbconvert_exporter": "python",
   "pygments_lexer": "ipython3",
   "version": "3.7.6"
  }
 },
 "nbformat": 4,
 "nbformat_minor": 4
}
